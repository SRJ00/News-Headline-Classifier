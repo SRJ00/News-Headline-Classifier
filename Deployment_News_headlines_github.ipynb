{
 "cells": [
  {
   "cell_type": "code",
   "execution_count": 67,
   "metadata": {},
   "outputs": [],
   "source": [
    "# for web app, first we load ll the necessary pakages\n",
    "import fastbook\n",
    "fastbook.setup_book()\n",
    "from fastbook import *\n",
    "from fastai.text.all import * \n",
    "import pandas as pd\n",
    "import os\n",
    "import ipywidgets as widgets\n",
    "from fastai.vision.widgets import *"
   ]
  },
  {
   "cell_type": "code",
   "execution_count": null,
   "metadata": {},
   "outputs": [],
   "source": [
    "# we change the directory to the path where our model is located\n",
    "path=Path()"
   ]
  },
  {
   "cell_type": "markdown",
   "metadata": {},
   "source": [
    "# Application for News Headline Classification\n",
    " ### This is a project created to Classify News Headlines, It can classify news into total 4 Categories:\n",
    " \n",
    " 1. Business\n",
    " 2. Entertainment\n",
    " 3. Health\n",
    " 4. Science And Technology"
   ]
  },
  {
   "cell_type": "code",
   "execution_count": 69,
   "metadata": {},
   "outputs": [],
   "source": [
    "# we load our model\n",
    "learn = load_learner(path/'export.pkl')\n"
   ]
  },
  {
   "cell_type": "code",
   "execution_count": 70,
   "metadata": {},
   "outputs": [],
   "source": [
    "\n",
    "    news=widgets.Text(\n",
    "    value='',\n",
    "    placeholder='Type the Headline',\n",
    "    description='News:',\n",
    "    disabled=False\n",
    "    )\n",
    "    "
   ]
  },
  {
   "cell_type": "code",
   "execution_count": 90,
   "metadata": {},
   "outputs": [],
   "source": [
    "#hide_output\n",
    "out_pl = widgets.Output()\n",
    "out_pl.clear_output()\n",
    "with out_pl: display(news.value)\n"
   ]
  },
  {
   "cell_type": "code",
   "execution_count": 91,
   "metadata": {},
   "outputs": [
    {
     "data": {
      "text/html": [],
      "text/plain": [
       "<IPython.core.display.HTML object>"
      ]
     },
     "metadata": {},
     "output_type": "display_data"
    }
   ],
   "source": [
    "pred,pred_idx,probs = learn.predict(news.value)\n",
    "for i in range(3):\n",
    "    if pred=='0':\n",
    "        pred='Business'\n",
    "    elif pred=='1':\n",
    "        pred='Entertainment'\n",
    "    elif pred=='2':\n",
    "        pred='Health'\n",
    "    elif pred=='3':\n",
    "        pred='Science & Technology'"
   ]
  },
  {
   "cell_type": "code",
   "execution_count": 92,
   "metadata": {},
   "outputs": [],
   "source": [
    "#hide_output\n",
    "lbl_pred = widgets.Label()\n",
    "lbl_pred.value = f'Prediction: {pred}; Probability: {probs[pred_idx]:.04f}'\n"
   ]
  },
  {
   "cell_type": "code",
   "execution_count": 93,
   "metadata": {},
   "outputs": [],
   "source": [
    "#hide_output\n",
    "btn_run = widgets.Button(description='Classify')"
   ]
  },
  {
   "cell_type": "code",
   "execution_count": 87,
   "metadata": {},
   "outputs": [],
   "source": [
    "def on_click_classify(change):\n",
    "    widgets.Text(\n",
    "    value='',\n",
    "    placeholder='Type something',\n",
    "    description='News:',\n",
    "    disabled=False\n",
    "    )\n",
    "    out_pl.clear_output()\n",
    "    with out_pl: display(news.value)\n",
    "    pred,pred_idx,probs = learn.predict(news.value)\n",
    "    for i in range(3):\n",
    "        if pred=='0':\n",
    "            pred='Business'\n",
    "        elif pred=='1':\n",
    "            pred='Entertainment'\n",
    "        elif pred=='2':\n",
    "            pred='Health'\n",
    "        elif pred=='3':\n",
    "            pred='Science & Technology'\n",
    "    lbl_pred.value = f'Prediction: {pred}; Probability: {probs[pred_idx]:.04f}'\n",
    "\n",
    "btn_run.on_click(on_click_classify)"
   ]
  },
  {
   "cell_type": "code",
   "execution_count": 88,
   "metadata": {},
   "outputs": [
    {
     "data": {
      "application/vnd.jupyter.widget-view+json": {
       "model_id": "be5ccc3e083a492ebc123066af84c136",
       "version_major": 2,
       "version_minor": 0
      },
      "text/plain": [
       "VBox(children=(Label(value='Type the News Headline in the Box!'), Text(value='Surgeory of a student in West Vi…"
      ]
     },
     "metadata": {},
     "output_type": "display_data"
    },
    {
     "data": {
      "text/html": [],
      "text/plain": [
       "<IPython.core.display.HTML object>"
      ]
     },
     "metadata": {},
     "output_type": "display_data"
    }
   ],
   "source": [
    "#hide_output\n",
    "VBox([widgets.Label('Type the News Headline in the Box!'), \n",
    "      news, btn_run, out_pl, lbl_pred])"
   ]
  },
  {
   "cell_type": "code",
   "execution_count": null,
   "metadata": {},
   "outputs": [],
   "source": [
    "# !pip install voila\n",
    "# !jupyter serverextension enable --sys-prefix voila "
   ]
  }
 ],
 "metadata": {
  "kernelspec": {
   "display_name": "Python 3",
   "language": "python",
   "name": "python3"
  },
  "language_info": {
   "codemirror_mode": {
    "name": "ipython",
    "version": 3
   },
   "file_extension": ".py",
   "mimetype": "text/x-python",
   "name": "python",
   "nbconvert_exporter": "python",
   "pygments_lexer": "ipython3",
   "version": "3.8.6"
  }
 },
 "nbformat": 4,
 "nbformat_minor": 4
}
